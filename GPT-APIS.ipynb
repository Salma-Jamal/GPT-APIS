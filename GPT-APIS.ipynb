{
  "nbformat": 4,
  "nbformat_minor": 0,
  "metadata": {
    "colab": {
      "provenance": [],
      "authorship_tag": "ABX9TyOJv5mkkNKjZ4tW19m8fZFA",
      "include_colab_link": true
    },
    "kernelspec": {
      "name": "python3",
      "display_name": "Python 3"
    },
    "language_info": {
      "name": "python"
    },
    "widgets": {
      "application/vnd.jupyter.widget-state+json": {
        "54f272b2bb064399896b1a719e8280d1": {
          "model_module": "@jupyter-widgets/controls",
          "model_name": "HBoxModel",
          "model_module_version": "1.5.0",
          "state": {
            "_dom_classes": [],
            "_model_module": "@jupyter-widgets/controls",
            "_model_module_version": "1.5.0",
            "_model_name": "HBoxModel",
            "_view_count": null,
            "_view_module": "@jupyter-widgets/controls",
            "_view_module_version": "1.5.0",
            "_view_name": "HBoxView",
            "box_style": "",
            "children": [
              "IPY_MODEL_63912e76e1da41b9a00c7a5de307efe4",
              "IPY_MODEL_8b69fa4264bd4b89a178b6627b5aab57",
              "IPY_MODEL_abc70d5644c14fb69c34e8d50af2ff55"
            ],
            "layout": "IPY_MODEL_3204bde89f58411998dc464f53d97173"
          }
        },
        "63912e76e1da41b9a00c7a5de307efe4": {
          "model_module": "@jupyter-widgets/controls",
          "model_name": "HTMLModel",
          "model_module_version": "1.5.0",
          "state": {
            "_dom_classes": [],
            "_model_module": "@jupyter-widgets/controls",
            "_model_module_version": "1.5.0",
            "_model_name": "HTMLModel",
            "_view_count": null,
            "_view_module": "@jupyter-widgets/controls",
            "_view_module_version": "1.5.0",
            "_view_name": "HTMLView",
            "description": "",
            "description_tooltip": null,
            "layout": "IPY_MODEL_3ac9c2b07cd640aa86102448f31bfb1b",
            "placeholder": "​",
            "style": "IPY_MODEL_510d97e772f34efb9ef5f72d42de0eb5",
            "value": "Downloading (…)olve/main/vocab.json: 100%"
          }
        },
        "8b69fa4264bd4b89a178b6627b5aab57": {
          "model_module": "@jupyter-widgets/controls",
          "model_name": "FloatProgressModel",
          "model_module_version": "1.5.0",
          "state": {
            "_dom_classes": [],
            "_model_module": "@jupyter-widgets/controls",
            "_model_module_version": "1.5.0",
            "_model_name": "FloatProgressModel",
            "_view_count": null,
            "_view_module": "@jupyter-widgets/controls",
            "_view_module_version": "1.5.0",
            "_view_name": "ProgressView",
            "bar_style": "success",
            "description": "",
            "description_tooltip": null,
            "layout": "IPY_MODEL_709f910f758a43dfae80e1cc9efac0fb",
            "max": 1042301,
            "min": 0,
            "orientation": "horizontal",
            "style": "IPY_MODEL_2a3a0e34fe0648ba9ae44ae6c237f9c8",
            "value": 1042301
          }
        },
        "abc70d5644c14fb69c34e8d50af2ff55": {
          "model_module": "@jupyter-widgets/controls",
          "model_name": "HTMLModel",
          "model_module_version": "1.5.0",
          "state": {
            "_dom_classes": [],
            "_model_module": "@jupyter-widgets/controls",
            "_model_module_version": "1.5.0",
            "_model_name": "HTMLModel",
            "_view_count": null,
            "_view_module": "@jupyter-widgets/controls",
            "_view_module_version": "1.5.0",
            "_view_name": "HTMLView",
            "description": "",
            "description_tooltip": null,
            "layout": "IPY_MODEL_3e27a6e17f3d4f6ca3dfe76c5fd985af",
            "placeholder": "​",
            "style": "IPY_MODEL_51b2f78151244cd2a1693a4a96ab40ca",
            "value": " 1.04M/1.04M [00:00&lt;00:00, 8.97MB/s]"
          }
        },
        "3204bde89f58411998dc464f53d97173": {
          "model_module": "@jupyter-widgets/base",
          "model_name": "LayoutModel",
          "model_module_version": "1.2.0",
          "state": {
            "_model_module": "@jupyter-widgets/base",
            "_model_module_version": "1.2.0",
            "_model_name": "LayoutModel",
            "_view_count": null,
            "_view_module": "@jupyter-widgets/base",
            "_view_module_version": "1.2.0",
            "_view_name": "LayoutView",
            "align_content": null,
            "align_items": null,
            "align_self": null,
            "border": null,
            "bottom": null,
            "display": null,
            "flex": null,
            "flex_flow": null,
            "grid_area": null,
            "grid_auto_columns": null,
            "grid_auto_flow": null,
            "grid_auto_rows": null,
            "grid_column": null,
            "grid_gap": null,
            "grid_row": null,
            "grid_template_areas": null,
            "grid_template_columns": null,
            "grid_template_rows": null,
            "height": null,
            "justify_content": null,
            "justify_items": null,
            "left": null,
            "margin": null,
            "max_height": null,
            "max_width": null,
            "min_height": null,
            "min_width": null,
            "object_fit": null,
            "object_position": null,
            "order": null,
            "overflow": null,
            "overflow_x": null,
            "overflow_y": null,
            "padding": null,
            "right": null,
            "top": null,
            "visibility": null,
            "width": null
          }
        },
        "3ac9c2b07cd640aa86102448f31bfb1b": {
          "model_module": "@jupyter-widgets/base",
          "model_name": "LayoutModel",
          "model_module_version": "1.2.0",
          "state": {
            "_model_module": "@jupyter-widgets/base",
            "_model_module_version": "1.2.0",
            "_model_name": "LayoutModel",
            "_view_count": null,
            "_view_module": "@jupyter-widgets/base",
            "_view_module_version": "1.2.0",
            "_view_name": "LayoutView",
            "align_content": null,
            "align_items": null,
            "align_self": null,
            "border": null,
            "bottom": null,
            "display": null,
            "flex": null,
            "flex_flow": null,
            "grid_area": null,
            "grid_auto_columns": null,
            "grid_auto_flow": null,
            "grid_auto_rows": null,
            "grid_column": null,
            "grid_gap": null,
            "grid_row": null,
            "grid_template_areas": null,
            "grid_template_columns": null,
            "grid_template_rows": null,
            "height": null,
            "justify_content": null,
            "justify_items": null,
            "left": null,
            "margin": null,
            "max_height": null,
            "max_width": null,
            "min_height": null,
            "min_width": null,
            "object_fit": null,
            "object_position": null,
            "order": null,
            "overflow": null,
            "overflow_x": null,
            "overflow_y": null,
            "padding": null,
            "right": null,
            "top": null,
            "visibility": null,
            "width": null
          }
        },
        "510d97e772f34efb9ef5f72d42de0eb5": {
          "model_module": "@jupyter-widgets/controls",
          "model_name": "DescriptionStyleModel",
          "model_module_version": "1.5.0",
          "state": {
            "_model_module": "@jupyter-widgets/controls",
            "_model_module_version": "1.5.0",
            "_model_name": "DescriptionStyleModel",
            "_view_count": null,
            "_view_module": "@jupyter-widgets/base",
            "_view_module_version": "1.2.0",
            "_view_name": "StyleView",
            "description_width": ""
          }
        },
        "709f910f758a43dfae80e1cc9efac0fb": {
          "model_module": "@jupyter-widgets/base",
          "model_name": "LayoutModel",
          "model_module_version": "1.2.0",
          "state": {
            "_model_module": "@jupyter-widgets/base",
            "_model_module_version": "1.2.0",
            "_model_name": "LayoutModel",
            "_view_count": null,
            "_view_module": "@jupyter-widgets/base",
            "_view_module_version": "1.2.0",
            "_view_name": "LayoutView",
            "align_content": null,
            "align_items": null,
            "align_self": null,
            "border": null,
            "bottom": null,
            "display": null,
            "flex": null,
            "flex_flow": null,
            "grid_area": null,
            "grid_auto_columns": null,
            "grid_auto_flow": null,
            "grid_auto_rows": null,
            "grid_column": null,
            "grid_gap": null,
            "grid_row": null,
            "grid_template_areas": null,
            "grid_template_columns": null,
            "grid_template_rows": null,
            "height": null,
            "justify_content": null,
            "justify_items": null,
            "left": null,
            "margin": null,
            "max_height": null,
            "max_width": null,
            "min_height": null,
            "min_width": null,
            "object_fit": null,
            "object_position": null,
            "order": null,
            "overflow": null,
            "overflow_x": null,
            "overflow_y": null,
            "padding": null,
            "right": null,
            "top": null,
            "visibility": null,
            "width": null
          }
        },
        "2a3a0e34fe0648ba9ae44ae6c237f9c8": {
          "model_module": "@jupyter-widgets/controls",
          "model_name": "ProgressStyleModel",
          "model_module_version": "1.5.0",
          "state": {
            "_model_module": "@jupyter-widgets/controls",
            "_model_module_version": "1.5.0",
            "_model_name": "ProgressStyleModel",
            "_view_count": null,
            "_view_module": "@jupyter-widgets/base",
            "_view_module_version": "1.2.0",
            "_view_name": "StyleView",
            "bar_color": null,
            "description_width": ""
          }
        },
        "3e27a6e17f3d4f6ca3dfe76c5fd985af": {
          "model_module": "@jupyter-widgets/base",
          "model_name": "LayoutModel",
          "model_module_version": "1.2.0",
          "state": {
            "_model_module": "@jupyter-widgets/base",
            "_model_module_version": "1.2.0",
            "_model_name": "LayoutModel",
            "_view_count": null,
            "_view_module": "@jupyter-widgets/base",
            "_view_module_version": "1.2.0",
            "_view_name": "LayoutView",
            "align_content": null,
            "align_items": null,
            "align_self": null,
            "border": null,
            "bottom": null,
            "display": null,
            "flex": null,
            "flex_flow": null,
            "grid_area": null,
            "grid_auto_columns": null,
            "grid_auto_flow": null,
            "grid_auto_rows": null,
            "grid_column": null,
            "grid_gap": null,
            "grid_row": null,
            "grid_template_areas": null,
            "grid_template_columns": null,
            "grid_template_rows": null,
            "height": null,
            "justify_content": null,
            "justify_items": null,
            "left": null,
            "margin": null,
            "max_height": null,
            "max_width": null,
            "min_height": null,
            "min_width": null,
            "object_fit": null,
            "object_position": null,
            "order": null,
            "overflow": null,
            "overflow_x": null,
            "overflow_y": null,
            "padding": null,
            "right": null,
            "top": null,
            "visibility": null,
            "width": null
          }
        },
        "51b2f78151244cd2a1693a4a96ab40ca": {
          "model_module": "@jupyter-widgets/controls",
          "model_name": "DescriptionStyleModel",
          "model_module_version": "1.5.0",
          "state": {
            "_model_module": "@jupyter-widgets/controls",
            "_model_module_version": "1.5.0",
            "_model_name": "DescriptionStyleModel",
            "_view_count": null,
            "_view_module": "@jupyter-widgets/base",
            "_view_module_version": "1.2.0",
            "_view_name": "StyleView",
            "description_width": ""
          }
        },
        "807f3ca0cbcb4e0e9cf45a3a1e9fc2c4": {
          "model_module": "@jupyter-widgets/controls",
          "model_name": "HBoxModel",
          "model_module_version": "1.5.0",
          "state": {
            "_dom_classes": [],
            "_model_module": "@jupyter-widgets/controls",
            "_model_module_version": "1.5.0",
            "_model_name": "HBoxModel",
            "_view_count": null,
            "_view_module": "@jupyter-widgets/controls",
            "_view_module_version": "1.5.0",
            "_view_name": "HBoxView",
            "box_style": "",
            "children": [
              "IPY_MODEL_732b5e72354d4cf88ad1431884443bdd",
              "IPY_MODEL_2d6e69712f5f409ab894019d56e69c5c",
              "IPY_MODEL_dbae12a489b04036a20cf008255ce339"
            ],
            "layout": "IPY_MODEL_a42d166184e54037a1aabba6506fab22"
          }
        },
        "732b5e72354d4cf88ad1431884443bdd": {
          "model_module": "@jupyter-widgets/controls",
          "model_name": "HTMLModel",
          "model_module_version": "1.5.0",
          "state": {
            "_dom_classes": [],
            "_model_module": "@jupyter-widgets/controls",
            "_model_module_version": "1.5.0",
            "_model_name": "HTMLModel",
            "_view_count": null,
            "_view_module": "@jupyter-widgets/controls",
            "_view_module_version": "1.5.0",
            "_view_name": "HTMLView",
            "description": "",
            "description_tooltip": null,
            "layout": "IPY_MODEL_fdb1bc9b61364cec81e33c4884439472",
            "placeholder": "​",
            "style": "IPY_MODEL_6e0e5fabfdcc4e95a487980acd9d4daf",
            "value": "Downloading (…)olve/main/merges.txt: 100%"
          }
        },
        "2d6e69712f5f409ab894019d56e69c5c": {
          "model_module": "@jupyter-widgets/controls",
          "model_name": "FloatProgressModel",
          "model_module_version": "1.5.0",
          "state": {
            "_dom_classes": [],
            "_model_module": "@jupyter-widgets/controls",
            "_model_module_version": "1.5.0",
            "_model_name": "FloatProgressModel",
            "_view_count": null,
            "_view_module": "@jupyter-widgets/controls",
            "_view_module_version": "1.5.0",
            "_view_name": "ProgressView",
            "bar_style": "success",
            "description": "",
            "description_tooltip": null,
            "layout": "IPY_MODEL_40bd684bbe384614acec08f933ff787d",
            "max": 456318,
            "min": 0,
            "orientation": "horizontal",
            "style": "IPY_MODEL_f3fac48a04594162b957c7764f4ae1af",
            "value": 456318
          }
        },
        "dbae12a489b04036a20cf008255ce339": {
          "model_module": "@jupyter-widgets/controls",
          "model_name": "HTMLModel",
          "model_module_version": "1.5.0",
          "state": {
            "_dom_classes": [],
            "_model_module": "@jupyter-widgets/controls",
            "_model_module_version": "1.5.0",
            "_model_name": "HTMLModel",
            "_view_count": null,
            "_view_module": "@jupyter-widgets/controls",
            "_view_module_version": "1.5.0",
            "_view_name": "HTMLView",
            "description": "",
            "description_tooltip": null,
            "layout": "IPY_MODEL_9b453bd334fc453bb3f3224ff214efda",
            "placeholder": "​",
            "style": "IPY_MODEL_8c70b388fcb042f183f3bb4f26496809",
            "value": " 456k/456k [00:00&lt;00:00, 2.51MB/s]"
          }
        },
        "a42d166184e54037a1aabba6506fab22": {
          "model_module": "@jupyter-widgets/base",
          "model_name": "LayoutModel",
          "model_module_version": "1.2.0",
          "state": {
            "_model_module": "@jupyter-widgets/base",
            "_model_module_version": "1.2.0",
            "_model_name": "LayoutModel",
            "_view_count": null,
            "_view_module": "@jupyter-widgets/base",
            "_view_module_version": "1.2.0",
            "_view_name": "LayoutView",
            "align_content": null,
            "align_items": null,
            "align_self": null,
            "border": null,
            "bottom": null,
            "display": null,
            "flex": null,
            "flex_flow": null,
            "grid_area": null,
            "grid_auto_columns": null,
            "grid_auto_flow": null,
            "grid_auto_rows": null,
            "grid_column": null,
            "grid_gap": null,
            "grid_row": null,
            "grid_template_areas": null,
            "grid_template_columns": null,
            "grid_template_rows": null,
            "height": null,
            "justify_content": null,
            "justify_items": null,
            "left": null,
            "margin": null,
            "max_height": null,
            "max_width": null,
            "min_height": null,
            "min_width": null,
            "object_fit": null,
            "object_position": null,
            "order": null,
            "overflow": null,
            "overflow_x": null,
            "overflow_y": null,
            "padding": null,
            "right": null,
            "top": null,
            "visibility": null,
            "width": null
          }
        },
        "fdb1bc9b61364cec81e33c4884439472": {
          "model_module": "@jupyter-widgets/base",
          "model_name": "LayoutModel",
          "model_module_version": "1.2.0",
          "state": {
            "_model_module": "@jupyter-widgets/base",
            "_model_module_version": "1.2.0",
            "_model_name": "LayoutModel",
            "_view_count": null,
            "_view_module": "@jupyter-widgets/base",
            "_view_module_version": "1.2.0",
            "_view_name": "LayoutView",
            "align_content": null,
            "align_items": null,
            "align_self": null,
            "border": null,
            "bottom": null,
            "display": null,
            "flex": null,
            "flex_flow": null,
            "grid_area": null,
            "grid_auto_columns": null,
            "grid_auto_flow": null,
            "grid_auto_rows": null,
            "grid_column": null,
            "grid_gap": null,
            "grid_row": null,
            "grid_template_areas": null,
            "grid_template_columns": null,
            "grid_template_rows": null,
            "height": null,
            "justify_content": null,
            "justify_items": null,
            "left": null,
            "margin": null,
            "max_height": null,
            "max_width": null,
            "min_height": null,
            "min_width": null,
            "object_fit": null,
            "object_position": null,
            "order": null,
            "overflow": null,
            "overflow_x": null,
            "overflow_y": null,
            "padding": null,
            "right": null,
            "top": null,
            "visibility": null,
            "width": null
          }
        },
        "6e0e5fabfdcc4e95a487980acd9d4daf": {
          "model_module": "@jupyter-widgets/controls",
          "model_name": "DescriptionStyleModel",
          "model_module_version": "1.5.0",
          "state": {
            "_model_module": "@jupyter-widgets/controls",
            "_model_module_version": "1.5.0",
            "_model_name": "DescriptionStyleModel",
            "_view_count": null,
            "_view_module": "@jupyter-widgets/base",
            "_view_module_version": "1.2.0",
            "_view_name": "StyleView",
            "description_width": ""
          }
        },
        "40bd684bbe384614acec08f933ff787d": {
          "model_module": "@jupyter-widgets/base",
          "model_name": "LayoutModel",
          "model_module_version": "1.2.0",
          "state": {
            "_model_module": "@jupyter-widgets/base",
            "_model_module_version": "1.2.0",
            "_model_name": "LayoutModel",
            "_view_count": null,
            "_view_module": "@jupyter-widgets/base",
            "_view_module_version": "1.2.0",
            "_view_name": "LayoutView",
            "align_content": null,
            "align_items": null,
            "align_self": null,
            "border": null,
            "bottom": null,
            "display": null,
            "flex": null,
            "flex_flow": null,
            "grid_area": null,
            "grid_auto_columns": null,
            "grid_auto_flow": null,
            "grid_auto_rows": null,
            "grid_column": null,
            "grid_gap": null,
            "grid_row": null,
            "grid_template_areas": null,
            "grid_template_columns": null,
            "grid_template_rows": null,
            "height": null,
            "justify_content": null,
            "justify_items": null,
            "left": null,
            "margin": null,
            "max_height": null,
            "max_width": null,
            "min_height": null,
            "min_width": null,
            "object_fit": null,
            "object_position": null,
            "order": null,
            "overflow": null,
            "overflow_x": null,
            "overflow_y": null,
            "padding": null,
            "right": null,
            "top": null,
            "visibility": null,
            "width": null
          }
        },
        "f3fac48a04594162b957c7764f4ae1af": {
          "model_module": "@jupyter-widgets/controls",
          "model_name": "ProgressStyleModel",
          "model_module_version": "1.5.0",
          "state": {
            "_model_module": "@jupyter-widgets/controls",
            "_model_module_version": "1.5.0",
            "_model_name": "ProgressStyleModel",
            "_view_count": null,
            "_view_module": "@jupyter-widgets/base",
            "_view_module_version": "1.2.0",
            "_view_name": "StyleView",
            "bar_color": null,
            "description_width": ""
          }
        },
        "9b453bd334fc453bb3f3224ff214efda": {
          "model_module": "@jupyter-widgets/base",
          "model_name": "LayoutModel",
          "model_module_version": "1.2.0",
          "state": {
            "_model_module": "@jupyter-widgets/base",
            "_model_module_version": "1.2.0",
            "_model_name": "LayoutModel",
            "_view_count": null,
            "_view_module": "@jupyter-widgets/base",
            "_view_module_version": "1.2.0",
            "_view_name": "LayoutView",
            "align_content": null,
            "align_items": null,
            "align_self": null,
            "border": null,
            "bottom": null,
            "display": null,
            "flex": null,
            "flex_flow": null,
            "grid_area": null,
            "grid_auto_columns": null,
            "grid_auto_flow": null,
            "grid_auto_rows": null,
            "grid_column": null,
            "grid_gap": null,
            "grid_row": null,
            "grid_template_areas": null,
            "grid_template_columns": null,
            "grid_template_rows": null,
            "height": null,
            "justify_content": null,
            "justify_items": null,
            "left": null,
            "margin": null,
            "max_height": null,
            "max_width": null,
            "min_height": null,
            "min_width": null,
            "object_fit": null,
            "object_position": null,
            "order": null,
            "overflow": null,
            "overflow_x": null,
            "overflow_y": null,
            "padding": null,
            "right": null,
            "top": null,
            "visibility": null,
            "width": null
          }
        },
        "8c70b388fcb042f183f3bb4f26496809": {
          "model_module": "@jupyter-widgets/controls",
          "model_name": "DescriptionStyleModel",
          "model_module_version": "1.5.0",
          "state": {
            "_model_module": "@jupyter-widgets/controls",
            "_model_module_version": "1.5.0",
            "_model_name": "DescriptionStyleModel",
            "_view_count": null,
            "_view_module": "@jupyter-widgets/base",
            "_view_module_version": "1.2.0",
            "_view_name": "StyleView",
            "description_width": ""
          }
        },
        "5e74db0a8e8c4c5582d870b12d9dc5fd": {
          "model_module": "@jupyter-widgets/controls",
          "model_name": "HBoxModel",
          "model_module_version": "1.5.0",
          "state": {
            "_dom_classes": [],
            "_model_module": "@jupyter-widgets/controls",
            "_model_module_version": "1.5.0",
            "_model_name": "HBoxModel",
            "_view_count": null,
            "_view_module": "@jupyter-widgets/controls",
            "_view_module_version": "1.5.0",
            "_view_name": "HBoxView",
            "box_style": "",
            "children": [
              "IPY_MODEL_e48c69a38bc54aa8a7be3eef8a8840a2",
              "IPY_MODEL_5110da3f173140cf9e08df2b51bb59e1",
              "IPY_MODEL_0a92c0ec403b49fabf0bf83862626347"
            ],
            "layout": "IPY_MODEL_51093a7c84104aab82289531a0812a8b"
          }
        },
        "e48c69a38bc54aa8a7be3eef8a8840a2": {
          "model_module": "@jupyter-widgets/controls",
          "model_name": "HTMLModel",
          "model_module_version": "1.5.0",
          "state": {
            "_dom_classes": [],
            "_model_module": "@jupyter-widgets/controls",
            "_model_module_version": "1.5.0",
            "_model_name": "HTMLModel",
            "_view_count": null,
            "_view_module": "@jupyter-widgets/controls",
            "_view_module_version": "1.5.0",
            "_view_name": "HTMLView",
            "description": "",
            "description_tooltip": null,
            "layout": "IPY_MODEL_27aa917f9ef84809b3bda48b14e95e0e",
            "placeholder": "​",
            "style": "IPY_MODEL_4643bde5629a4cacb20247337e8a0e8c",
            "value": "Downloading (…)/main/tokenizer.json: 100%"
          }
        },
        "5110da3f173140cf9e08df2b51bb59e1": {
          "model_module": "@jupyter-widgets/controls",
          "model_name": "FloatProgressModel",
          "model_module_version": "1.5.0",
          "state": {
            "_dom_classes": [],
            "_model_module": "@jupyter-widgets/controls",
            "_model_module_version": "1.5.0",
            "_model_name": "FloatProgressModel",
            "_view_count": null,
            "_view_module": "@jupyter-widgets/controls",
            "_view_module_version": "1.5.0",
            "_view_name": "ProgressView",
            "bar_style": "success",
            "description": "",
            "description_tooltip": null,
            "layout": "IPY_MODEL_595be37c478042efbab05df0cfbec5b0",
            "max": 1355256,
            "min": 0,
            "orientation": "horizontal",
            "style": "IPY_MODEL_3fe3ffaeecc044a6b4bede191b77eba8",
            "value": 1355256
          }
        },
        "0a92c0ec403b49fabf0bf83862626347": {
          "model_module": "@jupyter-widgets/controls",
          "model_name": "HTMLModel",
          "model_module_version": "1.5.0",
          "state": {
            "_dom_classes": [],
            "_model_module": "@jupyter-widgets/controls",
            "_model_module_version": "1.5.0",
            "_model_name": "HTMLModel",
            "_view_count": null,
            "_view_module": "@jupyter-widgets/controls",
            "_view_module_version": "1.5.0",
            "_view_name": "HTMLView",
            "description": "",
            "description_tooltip": null,
            "layout": "IPY_MODEL_d50d639131c14e2aa7a60727ca0544f5",
            "placeholder": "​",
            "style": "IPY_MODEL_220528aefe044263906537db22a44c84",
            "value": " 1.36M/1.36M [00:00&lt;00:00, 20.5MB/s]"
          }
        },
        "51093a7c84104aab82289531a0812a8b": {
          "model_module": "@jupyter-widgets/base",
          "model_name": "LayoutModel",
          "model_module_version": "1.2.0",
          "state": {
            "_model_module": "@jupyter-widgets/base",
            "_model_module_version": "1.2.0",
            "_model_name": "LayoutModel",
            "_view_count": null,
            "_view_module": "@jupyter-widgets/base",
            "_view_module_version": "1.2.0",
            "_view_name": "LayoutView",
            "align_content": null,
            "align_items": null,
            "align_self": null,
            "border": null,
            "bottom": null,
            "display": null,
            "flex": null,
            "flex_flow": null,
            "grid_area": null,
            "grid_auto_columns": null,
            "grid_auto_flow": null,
            "grid_auto_rows": null,
            "grid_column": null,
            "grid_gap": null,
            "grid_row": null,
            "grid_template_areas": null,
            "grid_template_columns": null,
            "grid_template_rows": null,
            "height": null,
            "justify_content": null,
            "justify_items": null,
            "left": null,
            "margin": null,
            "max_height": null,
            "max_width": null,
            "min_height": null,
            "min_width": null,
            "object_fit": null,
            "object_position": null,
            "order": null,
            "overflow": null,
            "overflow_x": null,
            "overflow_y": null,
            "padding": null,
            "right": null,
            "top": null,
            "visibility": null,
            "width": null
          }
        },
        "27aa917f9ef84809b3bda48b14e95e0e": {
          "model_module": "@jupyter-widgets/base",
          "model_name": "LayoutModel",
          "model_module_version": "1.2.0",
          "state": {
            "_model_module": "@jupyter-widgets/base",
            "_model_module_version": "1.2.0",
            "_model_name": "LayoutModel",
            "_view_count": null,
            "_view_module": "@jupyter-widgets/base",
            "_view_module_version": "1.2.0",
            "_view_name": "LayoutView",
            "align_content": null,
            "align_items": null,
            "align_self": null,
            "border": null,
            "bottom": null,
            "display": null,
            "flex": null,
            "flex_flow": null,
            "grid_area": null,
            "grid_auto_columns": null,
            "grid_auto_flow": null,
            "grid_auto_rows": null,
            "grid_column": null,
            "grid_gap": null,
            "grid_row": null,
            "grid_template_areas": null,
            "grid_template_columns": null,
            "grid_template_rows": null,
            "height": null,
            "justify_content": null,
            "justify_items": null,
            "left": null,
            "margin": null,
            "max_height": null,
            "max_width": null,
            "min_height": null,
            "min_width": null,
            "object_fit": null,
            "object_position": null,
            "order": null,
            "overflow": null,
            "overflow_x": null,
            "overflow_y": null,
            "padding": null,
            "right": null,
            "top": null,
            "visibility": null,
            "width": null
          }
        },
        "4643bde5629a4cacb20247337e8a0e8c": {
          "model_module": "@jupyter-widgets/controls",
          "model_name": "DescriptionStyleModel",
          "model_module_version": "1.5.0",
          "state": {
            "_model_module": "@jupyter-widgets/controls",
            "_model_module_version": "1.5.0",
            "_model_name": "DescriptionStyleModel",
            "_view_count": null,
            "_view_module": "@jupyter-widgets/base",
            "_view_module_version": "1.2.0",
            "_view_name": "StyleView",
            "description_width": ""
          }
        },
        "595be37c478042efbab05df0cfbec5b0": {
          "model_module": "@jupyter-widgets/base",
          "model_name": "LayoutModel",
          "model_module_version": "1.2.0",
          "state": {
            "_model_module": "@jupyter-widgets/base",
            "_model_module_version": "1.2.0",
            "_model_name": "LayoutModel",
            "_view_count": null,
            "_view_module": "@jupyter-widgets/base",
            "_view_module_version": "1.2.0",
            "_view_name": "LayoutView",
            "align_content": null,
            "align_items": null,
            "align_self": null,
            "border": null,
            "bottom": null,
            "display": null,
            "flex": null,
            "flex_flow": null,
            "grid_area": null,
            "grid_auto_columns": null,
            "grid_auto_flow": null,
            "grid_auto_rows": null,
            "grid_column": null,
            "grid_gap": null,
            "grid_row": null,
            "grid_template_areas": null,
            "grid_template_columns": null,
            "grid_template_rows": null,
            "height": null,
            "justify_content": null,
            "justify_items": null,
            "left": null,
            "margin": null,
            "max_height": null,
            "max_width": null,
            "min_height": null,
            "min_width": null,
            "object_fit": null,
            "object_position": null,
            "order": null,
            "overflow": null,
            "overflow_x": null,
            "overflow_y": null,
            "padding": null,
            "right": null,
            "top": null,
            "visibility": null,
            "width": null
          }
        },
        "3fe3ffaeecc044a6b4bede191b77eba8": {
          "model_module": "@jupyter-widgets/controls",
          "model_name": "ProgressStyleModel",
          "model_module_version": "1.5.0",
          "state": {
            "_model_module": "@jupyter-widgets/controls",
            "_model_module_version": "1.5.0",
            "_model_name": "ProgressStyleModel",
            "_view_count": null,
            "_view_module": "@jupyter-widgets/base",
            "_view_module_version": "1.2.0",
            "_view_name": "StyleView",
            "bar_color": null,
            "description_width": ""
          }
        },
        "d50d639131c14e2aa7a60727ca0544f5": {
          "model_module": "@jupyter-widgets/base",
          "model_name": "LayoutModel",
          "model_module_version": "1.2.0",
          "state": {
            "_model_module": "@jupyter-widgets/base",
            "_model_module_version": "1.2.0",
            "_model_name": "LayoutModel",
            "_view_count": null,
            "_view_module": "@jupyter-widgets/base",
            "_view_module_version": "1.2.0",
            "_view_name": "LayoutView",
            "align_content": null,
            "align_items": null,
            "align_self": null,
            "border": null,
            "bottom": null,
            "display": null,
            "flex": null,
            "flex_flow": null,
            "grid_area": null,
            "grid_auto_columns": null,
            "grid_auto_flow": null,
            "grid_auto_rows": null,
            "grid_column": null,
            "grid_gap": null,
            "grid_row": null,
            "grid_template_areas": null,
            "grid_template_columns": null,
            "grid_template_rows": null,
            "height": null,
            "justify_content": null,
            "justify_items": null,
            "left": null,
            "margin": null,
            "max_height": null,
            "max_width": null,
            "min_height": null,
            "min_width": null,
            "object_fit": null,
            "object_position": null,
            "order": null,
            "overflow": null,
            "overflow_x": null,
            "overflow_y": null,
            "padding": null,
            "right": null,
            "top": null,
            "visibility": null,
            "width": null
          }
        },
        "220528aefe044263906537db22a44c84": {
          "model_module": "@jupyter-widgets/controls",
          "model_name": "DescriptionStyleModel",
          "model_module_version": "1.5.0",
          "state": {
            "_model_module": "@jupyter-widgets/controls",
            "_model_module_version": "1.5.0",
            "_model_name": "DescriptionStyleModel",
            "_view_count": null,
            "_view_module": "@jupyter-widgets/base",
            "_view_module_version": "1.2.0",
            "_view_name": "StyleView",
            "description_width": ""
          }
        }
      }
    }
  },
  "cells": [
    {
      "cell_type": "markdown",
      "metadata": {
        "id": "view-in-github",
        "colab_type": "text"
      },
      "source": [
        "<a href=\"https://colab.research.google.com/github/Salma-Jamal/GPT-APIS/blob/main/GPT-APIS.ipynb\" target=\"_parent\"><img src=\"https://colab.research.google.com/assets/colab-badge.svg\" alt=\"Open In Colab\"/></a>"
      ]
    },
    {
      "cell_type": "markdown",
      "source": [
        "# GPT APIs\n",
        "- Application programming interfaces that allow developers to integrate the language generation capabilities of GPT (Generative Pre-trained Transformer) models into their applications.\n",
        "\n",
        "    - GPT models are deep learning algorithms that are trained on large amounts of data to generate natural language text. \n",
        "\n",
        "    - GPT APIs provide an easy way for developers to leverage this technology in their own applications, without having to build and train their own models from scratch.\n",
        "\n",
        "- Several GPT APIs available, including: \n",
        "    - OpenAI. \n",
        "    - Hugging Face.\n",
        "    - Google.\n",
        "\n",
        "- These APIs provide a range of capabilities:\n",
        "    - simple text generation.\n",
        "    - summarization.\n",
        "    - translation\n",
        "    - question answering."
      ],
      "metadata": {
        "id": "2Of3Ioemorp_"
      }
    },
    {
      "cell_type": "markdown",
      "source": [
        "# Imports"
      ],
      "metadata": {
        "id": "A3N2kp72pxcP"
      }
    },
    {
      "cell_type": "code",
      "execution_count": null,
      "metadata": {
        "id": "pKz_7TYDoktr"
      },
      "outputs": [],
      "source": [
        "!pip install transformers\n",
        "!pip install pydub\n",
        "!pip install --upgrade --no-cache-dir gdown"
      ]
    },
    {
      "cell_type": "code",
      "source": [
        "from transformers import pipeline"
      ],
      "metadata": {
        "id": "XcPdXEK_pwr-"
      },
      "execution_count": 2,
      "outputs": []
    },
    {
      "cell_type": "markdown",
      "source": [
        "# Text Generation"
      ],
      "metadata": {
        "id": "3MxBOXCir6DH"
      }
    },
    {
      "cell_type": "markdown",
      "source": [
        "## load the GPT-2 model using the pipeline function from the Hugging Face library\n",
        "- **pipeline:** A method that allow the user to use pretrained models for inference. \n",
        "  - They abstract most of the complex code, offering a simple API dedicated to several tasks, including Named Entity Recognition, Masked Language Modeling, Sentiment Analysis."
      ],
      "metadata": {
        "id": "Rnw2YwRvqApB"
      }
    },
    {
      "cell_type": "code",
      "source": [
        "# Load the GPT-2 model\n",
        "generator = pipeline('text-generation', model='gpt2')"
      ],
      "metadata": {
        "colab": {
          "base_uri": "https://localhost:8080/",
          "height": 130,
          "referenced_widgets": [
            "f9dd6aa9e9e7439d8a1a57d0559381a0",
            "54f272b2bb064399896b1a719e8280d1",
            "63912e76e1da41b9a00c7a5de307efe4",
            "8b69fa4264bd4b89a178b6627b5aab57",
            "abc70d5644c14fb69c34e8d50af2ff55",
            "3204bde89f58411998dc464f53d97173",
            "3ac9c2b07cd640aa86102448f31bfb1b",
            "510d97e772f34efb9ef5f72d42de0eb5",
            "709f910f758a43dfae80e1cc9efac0fb",
            "2a3a0e34fe0648ba9ae44ae6c237f9c8",
            "3e27a6e17f3d4f6ca3dfe76c5fd985af",
            "51b2f78151244cd2a1693a4a96ab40ca",
            "807f3ca0cbcb4e0e9cf45a3a1e9fc2c4",
            "732b5e72354d4cf88ad1431884443bdd",
            "2d6e69712f5f409ab894019d56e69c5c",
            "dbae12a489b04036a20cf008255ce339",
            "a42d166184e54037a1aabba6506fab22",
            "fdb1bc9b61364cec81e33c4884439472",
            "6e0e5fabfdcc4e95a487980acd9d4daf",
            "40bd684bbe384614acec08f933ff787d",
            "f3fac48a04594162b957c7764f4ae1af",
            "9b453bd334fc453bb3f3224ff214efda",
            "8c70b388fcb042f183f3bb4f26496809",
            "5e74db0a8e8c4c5582d870b12d9dc5fd",
            "e48c69a38bc54aa8a7be3eef8a8840a2",
            "5110da3f173140cf9e08df2b51bb59e1",
            "0a92c0ec403b49fabf0bf83862626347",
            "51093a7c84104aab82289531a0812a8b",
            "27aa917f9ef84809b3bda48b14e95e0e",
            "4643bde5629a4cacb20247337e8a0e8c",
            "595be37c478042efbab05df0cfbec5b0",
            "3fe3ffaeecc044a6b4bede191b77eba8",
            "d50d639131c14e2aa7a60727ca0544f5",
            "220528aefe044263906537db22a44c84"
          ]
        },
        "id": "6mU8rTMcrNQx",
        "outputId": "c6b892c3-26e2-4d92-8868-bd494a8fce5d"
      },
      "execution_count": 3,
      "outputs": [
        {
          "output_type": "display_data",
          "data": {
            "text/plain": [
              "Downloading (…)neration_config.json:   0%|          | 0.00/124 [00:00<?, ?B/s]"
            ],
            "application/vnd.jupyter.widget-view+json": {
              "version_major": 2,
              "version_minor": 0,
              "model_id": "f9dd6aa9e9e7439d8a1a57d0559381a0"
            }
          },
          "metadata": {}
        },
        {
          "output_type": "display_data",
          "data": {
            "text/plain": [
              "Downloading (…)olve/main/vocab.json:   0%|          | 0.00/1.04M [00:00<?, ?B/s]"
            ],
            "application/vnd.jupyter.widget-view+json": {
              "version_major": 2,
              "version_minor": 0,
              "model_id": "54f272b2bb064399896b1a719e8280d1"
            }
          },
          "metadata": {}
        },
        {
          "output_type": "display_data",
          "data": {
            "text/plain": [
              "Downloading (…)olve/main/merges.txt:   0%|          | 0.00/456k [00:00<?, ?B/s]"
            ],
            "application/vnd.jupyter.widget-view+json": {
              "version_major": 2,
              "version_minor": 0,
              "model_id": "807f3ca0cbcb4e0e9cf45a3a1e9fc2c4"
            }
          },
          "metadata": {}
        },
        {
          "output_type": "display_data",
          "data": {
            "text/plain": [
              "Downloading (…)/main/tokenizer.json:   0%|          | 0.00/1.36M [00:00<?, ?B/s]"
            ],
            "application/vnd.jupyter.widget-view+json": {
              "version_major": 2,
              "version_minor": 0,
              "model_id": "5e74db0a8e8c4c5582d870b12d9dc5fd"
            }
          },
          "metadata": {}
        }
      ]
    },
    {
      "cell_type": "markdown",
      "source": [
        "## Generate text:\n",
        "Pass in a prompt to the model (\"Hello, how are you today?\") and specifying the maximum length of the generated text and the number of sequences to generate."
      ],
      "metadata": {
        "id": "DxcgYasprVmo"
      }
    },
    {
      "cell_type": "code",
      "source": [
        "# Generate text\n",
        "text = generator(\"Hello, how are you today?\", max_length=50, num_return_sequences=1)"
      ],
      "metadata": {
        "id": "pmFfa_l8rSgW"
      },
      "execution_count": 13,
      "outputs": []
    },
    {
      "cell_type": "code",
      "source": [
        "# Print the generated text\n",
        "print(text[0]['generated_text'])"
      ],
      "metadata": {
        "colab": {
          "base_uri": "https://localhost:8080/"
        },
        "id": "t8kOQK7SsrjW",
        "outputId": "718fd759-789e-48ac-d28e-095f8a8009a7"
      },
      "execution_count": 15,
      "outputs": [
        {
          "output_type": "stream",
          "name": "stdout",
          "text": [
            "Hello, how are you today? You're feeling fine. I'm sorry to hear it, but my husband's right to ask. I didn't plan on asking, but I felt the same way during our date. I wish he'd found a\n"
          ]
        }
      ]
    },
    {
      "cell_type": "markdown",
      "source": [
        "## Another Example"
      ],
      "metadata": {
        "id": "dI0ZezTqswcN"
      }
    },
    {
      "cell_type": "code",
      "source": [
        "# Generate text\n",
        "text = generator(\"My name is john and my phone number is\", max_length=50, num_return_sequences=2)"
      ],
      "metadata": {
        "id": "ZYbqTwXrswDl"
      },
      "execution_count": null,
      "outputs": []
    },
    {
      "cell_type": "code",
      "source": [
        "text"
      ],
      "metadata": {
        "colab": {
          "base_uri": "https://localhost:8080/"
        },
        "id": "NH6M_sDks5Zs",
        "outputId": "ceb7bc3c-12e8-4101-ea39-b6cb0c10d548"
      },
      "execution_count": 19,
      "outputs": [
        {
          "output_type": "execute_result",
          "data": {
            "text/plain": [
              "[{'generated_text': \"My name is john and my phone number is 047-3899-3901. I am on Facebook. I am trying to get a job. I have been called a 'narcissist' by a man who appears to be married\"},\n",
              " {'generated_text': \"My name is john and my phone number is (415) 974-8255. I really want to be able to take care of you because you just told me to. If you're not happy with your life and you're wondering why I\"}]"
            ]
          },
          "metadata": {},
          "execution_count": 19
        }
      ]
    },
    {
      "cell_type": "markdown",
      "source": [
        "# Audio classification\n",
        "Audio classification is a task that labels audio data from a predefined set of classes.\n",
        "- Model used: [hubert-base-superb-er](https://huggingface.co/superb/hubert-base-superb-er)"
      ],
      "metadata": {
        "id": "Qhs1OXwOtm8D"
      }
    },
    {
      "cell_type": "code",
      "source": [
        "!gdown 1qX22l_5CPCS-sbN4-ifSpk5Iqp-3lmab"
      ],
      "metadata": {
        "colab": {
          "base_uri": "https://localhost:8080/"
        },
        "id": "q5C3qW7H2w0-",
        "outputId": "a9b540e7-c2c8-4228-e5c6-8fcca431790a"
      },
      "execution_count": 72,
      "outputs": [
        {
          "output_type": "stream",
          "name": "stdout",
          "text": [
            "Downloading...\n",
            "From: https://drive.google.com/uc?id=1qX22l_5CPCS-sbN4-ifSpk5Iqp-3lmab\n",
            "To: /content/mlk.flac\n",
            "\r  0% 0.00/383k [00:00<?, ?B/s]\r100% 383k/383k [00:00<00:00, 114MB/s]\n"
          ]
        }
      ]
    },
    {
      "cell_type": "code",
      "source": [
        "from pydub import AudioSegment\n",
        "\n",
        "audio_file = AudioSegment.from_file(\"/content/mlk.flac\", format=\"flac\")\n",
        "raw_data = audio_file.raw_data\n"
      ],
      "metadata": {
        "id": "B5H-iclgvHqQ"
      },
      "execution_count": 42,
      "outputs": []
    },
    {
      "cell_type": "code",
      "source": [
        "audio_file"
      ],
      "metadata": {
        "colab": {
          "base_uri": "https://localhost:8080/",
          "height": 75
        },
        "id": "Ou9AoWrOvcYJ",
        "outputId": "6e1b3ec4-3364-4ec2-d015-0866519e9e81"
      },
      "execution_count": 43,
      "outputs": [
        {
          "output_type": "execute_result",
          "data": {
            "text/plain": [
              "<pydub.audio_segment.AudioSegment at 0x7fcd3601cd90>"
            ],
            "text/html": [
              "\n",
              "                    <audio controls>\n",
              "                        <source src=\"data:audio/mpeg;base64,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\" type=\"audio/mpeg\"/>\n",
              "                        Your browser does not support the audio element.\n",
              "                    </audio>\n",
              "                  "
            ]
          },
          "metadata": {},
          "execution_count": 43
        }
      ]
    },
    {
      "cell_type": "code",
      "source": [
        "# Load the Hubert model for audio classification\n",
        "classifier = pipeline(task=\"audio-classification\", model=\"superb/hubert-base-superb-er\")"
      ],
      "metadata": {
        "id": "zryJMhl0w4n-"
      },
      "execution_count": 47,
      "outputs": []
    },
    {
      "cell_type": "code",
      "source": [
        "# Pass the file path to the classifier pipeline\n",
        "file_path = \"/content/mlk.flac\"\n",
        "preds = classifier(file_path)"
      ],
      "metadata": {
        "id": "ygf7fiv5vif_"
      },
      "execution_count": 48,
      "outputs": []
    },
    {
      "cell_type": "code",
      "source": [
        "preds"
      ],
      "metadata": {
        "colab": {
          "base_uri": "https://localhost:8080/"
        },
        "id": "mDR8fPWpwnYm",
        "outputId": "5568a093-fb23-4286-ffcb-793aad68db84"
      },
      "execution_count": 49,
      "outputs": [
        {
          "output_type": "execute_result",
          "data": {
            "text/plain": [
              "[{'score': 0.45321404933929443, 'label': 'hap'},\n",
              " {'score': 0.36221277713775635, 'label': 'sad'},\n",
              " {'score': 0.09430034458637238, 'label': 'neu'},\n",
              " {'score': 0.09027271717786789, 'label': 'ang'}]"
            ]
          },
          "metadata": {},
          "execution_count": 49
        }
      ]
    },
    {
      "cell_type": "markdown",
      "source": [
        "# Automatic speech recognition\n",
        "- Model used: [openai/whisper-small](https://huggingface.co/openai/whisper-small)"
      ],
      "metadata": {
        "id": "DLC4BE9gyIje"
      }
    },
    {
      "cell_type": "code",
      "source": [
        "transcriber = pipeline(task=\"automatic-speech-recognition\", model=\"openai/whisper-small\")"
      ],
      "metadata": {
        "id": "HmrkZGz3xDzx"
      },
      "execution_count": null,
      "outputs": []
    },
    {
      "cell_type": "code",
      "source": [
        "pred = transcriber(file_path,max_new_tokens=448)"
      ],
      "metadata": {
        "id": "CsbrrRVOyKId"
      },
      "execution_count": 52,
      "outputs": []
    },
    {
      "cell_type": "code",
      "source": [
        "pred"
      ],
      "metadata": {
        "colab": {
          "base_uri": "https://localhost:8080/"
        },
        "id": "hF-B13pTysVi",
        "outputId": "f69baea2-c7f9-4003-8c3d-5e0bb73f614f"
      },
      "execution_count": 53,
      "outputs": [
        {
          "output_type": "execute_result",
          "data": {
            "text/plain": [
              "{'text': ' I have a dream that one day this nation will rise up and live out the true meaning of its creed.'}"
            ]
          },
          "metadata": {},
          "execution_count": 53
        }
      ]
    },
    {
      "cell_type": "markdown",
      "source": [
        "# Summarization"
      ],
      "metadata": {
        "id": "reASThj60Boq"
      }
    },
    {
      "cell_type": "code",
      "source": [
        "summarizer = pipeline(task=\"summarization\", max_length=117)"
      ],
      "metadata": {
        "id": "03ZYt0_Pys6c"
      },
      "execution_count": 63,
      "outputs": []
    },
    {
      "cell_type": "code",
      "source": [
        "summary_pred = summarizer(\n",
        "    \"In this work, we presented the Transformer, the first sequence transduction model based entirely on attention, replacing the recurrent layers most commonly used in encoder-decoder architectures with multi-headed self-attention. For translation tasks, the Transformer can be trained significantly faster than architectures based on recurrent or convolutional layers. On both WMT 2014 English-to-German and WMT 2014 English-to-French translation tasks, we achieve a new state of the art. In the former task our best model outperforms even all previously reported ensembles.\"\n",
        ")"
      ],
      "metadata": {
        "id": "f_0OevCT0dBr"
      },
      "execution_count": 64,
      "outputs": []
    },
    {
      "cell_type": "code",
      "source": [
        "summary_pred"
      ],
      "metadata": {
        "colab": {
          "base_uri": "https://localhost:8080/"
        },
        "id": "rqXrYGVd0aQR",
        "outputId": "6ddd2e9b-b3b5-4fc2-c72b-31e708ce789b"
      },
      "execution_count": 65,
      "outputs": [
        {
          "output_type": "execute_result",
          "data": {
            "text/plain": [
              "[{'summary_text': ' The Transformer is the first sequence transduction model based entirely on attention . It replaces the recurrent layers most commonly used in encoder-decoder architectures with multi-headed self-attention . For translation tasks, the Transformer can be trained significantly faster than architectures based on recurrent or convolutional layers .'}]"
            ]
          },
          "metadata": {},
          "execution_count": 65
        }
      ]
    },
    {
      "cell_type": "markdown",
      "source": [
        "# Sentiment Analysis\n",
        "\n",
        "- Use the pipeline method to perform Sentiment Analysis"
      ],
      "metadata": {
        "id": "-oLFy4EN1PPA"
      }
    },
    {
      "cell_type": "code",
      "source": [],
      "metadata": {
        "id": "wepNsd1w1pCD"
      },
      "execution_count": null,
      "outputs": []
    }
  ]
}